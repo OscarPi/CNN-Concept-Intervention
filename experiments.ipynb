{
 "cells": [
  {
   "cell_type": "code",
   "execution_count": 1,
   "metadata": {},
   "outputs": [
    {
     "name": "stderr",
     "output_type": "stream",
     "text": [
      "/Users/oscar/miniconda3/envs/project/lib/python3.9/site-packages/torchvision/io/image.py:13: UserWarning: Failed to load image Python extension: 'dlopen(/Users/oscar/miniconda3/envs/project/lib/python3.9/site-packages/torchvision/image.so, 0x0006): Symbol not found: __ZN3c1017RegisterOperatorsD1Ev\n",
      "  Referenced from: <2D1B8D5C-7891-3680-9CF9-F771AE880676> /Users/oscar/miniconda3/envs/project/lib/python3.9/site-packages/torchvision/image.so\n",
      "  Expected in:     <2D68CDC2-76C0-3D65-B41E-4C9217A6016F> /Users/oscar/miniconda3/envs/project/lib/python3.9/site-packages/torch/lib/libtorch_cpu.dylib'If you don't plan on using image functionality from `torchvision.io`, you can ignore this warning. Otherwise, there might be something wrong with your environment. Did you have `libjpeg` or `libpng` installed before building `torchvision` from source?\n",
      "  warn(\n"
     ]
    }
   ],
   "source": [
    "from utils import *\n",
    "import matplotlib.pyplot as plt\n",
    "import torch\n",
    "import numpy as np\n",
    "import dsprites\n",
    "import models\n",
    "import os\n",
    "import cem.train.training as training\n",
    "torch.manual_seed(42)\n",
    "np.random.seed(42)"
   ]
  },
  {
   "cell_type": "code",
   "execution_count": 2,
   "metadata": {},
   "outputs": [
    {
     "name": "stdout",
     "output_type": "stream",
     "text": [
      "Using mps device\n"
     ]
    }
   ],
   "source": [
    "device = (\n",
    "  \"cuda\"\n",
    "  if torch.cuda.is_available()\n",
    "  else \"mps\"\n",
    "  if torch.backends.mps.is_available()\n",
    "  else \"cpu\"\n",
    ")\n",
    "print(f\"Using {device} device\")"
   ]
  },
  {
   "cell_type": "markdown",
   "metadata": {},
   "source": [
    "# Net2Vec Interventions"
   ]
  },
  {
   "cell_type": "markdown",
   "metadata": {},
   "source": [
    "## DSPRITES"
   ]
  },
  {
   "cell_type": "code",
   "execution_count": 3,
   "metadata": {},
   "outputs": [
    {
     "data": {
      "text/plain": [
       "Model(\n",
       "  (conv1): Conv2d(1, 16, kernel_size=(3, 3), stride=(1, 1), padding=same)\n",
       "  (postconv1): Sequential(\n",
       "    (0): BatchNorm2d(16, eps=1e-05, momentum=0.1, affine=True, track_running_stats=True)\n",
       "    (1): LeakyReLU(negative_slope=0.01)\n",
       "  )\n",
       "  (conv2): Conv2d(16, 16, kernel_size=(3, 3), stride=(1, 1), padding=same)\n",
       "  (postconv2): Sequential(\n",
       "    (0): BatchNorm2d(16, eps=1e-05, momentum=0.1, affine=True, track_running_stats=True)\n",
       "    (1): LeakyReLU(negative_slope=0.01)\n",
       "  )\n",
       "  (conv3): Conv2d(16, 16, kernel_size=(3, 3), stride=(1, 1), padding=same)\n",
       "  (postconv3): Sequential(\n",
       "    (0): BatchNorm2d(16, eps=1e-05, momentum=0.1, affine=True, track_running_stats=True)\n",
       "    (1): LeakyReLU(negative_slope=0.01)\n",
       "  )\n",
       "  (conv4): Conv2d(16, 16, kernel_size=(3, 3), stride=(1, 1), padding=same)\n",
       "  (postconv4): Sequential(\n",
       "    (0): BatchNorm2d(16, eps=1e-05, momentum=0.1, affine=True, track_running_stats=True)\n",
       "    (1): LeakyReLU(negative_slope=0.01)\n",
       "  )\n",
       "  (out): Sequential(\n",
       "    (0): Flatten(start_dim=1, end_dim=-1)\n",
       "    (1): Linear(in_features=65536, out_features=12, bias=True)\n",
       "  )\n",
       ")"
      ]
     },
     "execution_count": 3,
     "metadata": {},
     "output_type": "execute_result"
    }
   ],
   "source": [
    "dsprites_model = models.Model(1, 64, 64, 12)\n",
    "\n",
    "if os.path.exists('dsprites_model.pth'):\n",
    "  dsprites_model.load_state_dict(torch.load('dsprites_model.pth'))\n",
    "else:\n",
    "    train(dsprites_model, dsprites.train_dl, dsprites.val_dl, epochs=8)\n",
    "    torch.save(dsprites_model.state_dict(), 'dsprites_model.pth')\n",
    "dsprites_model.to(device)"
   ]
  },
  {
   "cell_type": "code",
   "execution_count": 4,
   "metadata": {},
   "outputs": [
    {
     "data": {
      "text/plain": [
       "LinearModels(\n",
       "  (l): Linear(in_features=64, out_features=7, bias=True)\n",
       "  (sigmoid): Sigmoid()\n",
       ")"
      ]
     },
     "execution_count": 4,
     "metadata": {},
     "output_type": "execute_result"
    }
   ],
   "source": [
    "dsprite_concept_classifier = models.LinearModels(64, 7)\n",
    "\n",
    "if os.path.exists('dsprites_concept_classifier.pth'):\n",
    "  dsprite_concept_classifier.load_state_dict(torch.load('dsprites_concept_classifier.pth'))\n",
    "else:\n",
    "  train_concept_classifier(dsprites_model, dsprite_concept_classifier, dsprites.train_dl, dsprites.val_dl)\n",
    "  torch.save(dsprite_concept_classifier.state_dict(), 'dsprites_concept_classifier.pth')\n",
    "dsprite_concept_classifier.to(device)"
   ]
  },
  {
   "cell_type": "code",
   "execution_count": 5,
   "metadata": {},
   "outputs": [
    {
     "data": {
      "text/plain": [
       "0.6126302083333334"
      ]
     },
     "execution_count": 5,
     "metadata": {},
     "output_type": "execute_result"
    }
   ],
   "source": [
    "calculate_accuracy(dsprites.test_dl, dsprites_model)"
   ]
  },
  {
   "cell_type": "code",
   "execution_count": 6,
   "metadata": {},
   "outputs": [
    {
     "data": {
      "text/plain": [
       "(0.8567088293650794,\n",
       " array([0.75130208, 0.74934896, 0.74414062, 0.75520833, 1.        ,\n",
       "        0.99696181, 1.        ]))"
      ]
     },
     "execution_count": 6,
     "metadata": {},
     "output_type": "execute_result"
    }
   ],
   "source": [
    "calculate_concept_accuracy(dsprites.test_dl, dsprites_model, dsprite_concept_classifier)"
   ]
  },
  {
   "cell_type": "code",
   "execution_count": 7,
   "metadata": {},
   "outputs": [
    {
     "data": {
      "image/png": "[encoded data removed]",
      "text/plain": [
       "<Figure size 640x480 with 1 Axes>"
      ]
     },
     "metadata": {},
     "output_type": "display_data"
    }
   ],
   "source": [
    "epsilons = np.linspace(0, 0.2)\n",
    "dsprites_net2vec_epsilon_accuracies = []\n",
    "\n",
    "for epsilon in epsilons:\n",
    "  dsprites_net2vec_epsilon_accuracies.append(calculate_accuracy_with_interventions(\n",
    "    dsprites_model,\n",
    "    dsprite_concept_classifier,\n",
    "    dsprites.test_dl,\n",
    "    epsilon,\n",
    "    [True, True, True, True, True, True, True]))\n",
    "\n",
    "plt.plot(epsilons, dsprites_net2vec_epsilon_accuracies)\n",
    "plt.xlabel(\"$\\epsilon$\")\n",
    "plt.ylabel(\"Task accuracy\")\n",
    "plt.show()"
   ]
  },
  {
   "cell_type": "code",
   "execution_count": 10,
   "metadata": {},
   "outputs": [],
   "source": [
    "dsprites_concept_groups_intervened = [0, 1, 2]\n",
    "dsprites_net2vec_intervention_accuracies = []\n",
    "dsprites_net2vec_intervention_accuracies.append(calculate_accuracy_with_interventions(\n",
    "  dsprites_model,\n",
    "  dsprite_concept_classifier,\n",
    "  dsprites.test_dl,\n",
    "  0.09,\n",
    "  [False, False, False, False, False, False, False]))\n",
    "dsprites_net2vec_intervention_accuracies.append(calculate_accuracy_with_interventions(\n",
    "  dsprites_model,\n",
    "  dsprite_concept_classifier,\n",
    "  dsprites.test_dl,\n",
    "  0.09,\n",
    "  [False, False, False, False, True, True, True]))\n",
    "dsprites_net2vec_intervention_accuracies.append(calculate_accuracy_with_interventions(\n",
    "  dsprites_model,\n",
    "  dsprite_concept_classifier,\n",
    "  dsprites.test_dl,\n",
    "  0.09,\n",
    "  [True, True, True, True, True, True, True]))"
   ]
  },
  {
   "cell_type": "code",
   "execution_count": 11,
   "metadata": {},
   "outputs": [],
   "source": [
    "dsprites_net2vec_incorrect_intervention_accuracies = []\n",
    "dsprites_net2vec_incorrect_intervention_accuracies.append(calculate_accuracy_with_interventions(\n",
    "  dsprites_model,\n",
    "  dsprite_concept_classifier,\n",
    "  dsprites.test_dl,\n",
    "  0.09,\n",
    "  [False, False, False, False, False, False, False],\n",
    "  intervene_incorrectly=True))\n",
    "dsprites_net2vec_incorrect_intervention_accuracies.append(calculate_accuracy_with_interventions(\n",
    "  dsprites_model,\n",
    "  dsprite_concept_classifier,\n",
    "  dsprites.test_dl,\n",
    "  0.09,\n",
    "  [False, False, False, False, True, True, True],\n",
    "  intervene_incorrectly=True))\n",
    "dsprites_net2vec_incorrect_intervention_accuracies.append(calculate_accuracy_with_interventions(\n",
    "  dsprites_model,\n",
    "  dsprite_concept_classifier,\n",
    "  dsprites.test_dl,\n",
    "  0.09,\n",
    "  [True, True, True, True, True, True, True],\n",
    "  intervene_incorrectly=True))"
   ]
  },
  {
   "cell_type": "markdown",
   "metadata": {},
   "source": [
    "## MNIST ADD"
   ]
  },
  {
   "cell_type": "code",
   "execution_count": 12,
   "metadata": {},
   "outputs": [
    {
     "data": {
      "text/plain": [
       "Model(\n",
       "  (conv1): Conv2d(2, 16, kernel_size=(3, 3), stride=(1, 1), padding=same)\n",
       "  (postconv1): Sequential(\n",
       "    (0): BatchNorm2d(16, eps=1e-05, momentum=0.1, affine=True, track_running_stats=True)\n",
       "    (1): LeakyReLU(negative_slope=0.01)\n",
       "  )\n",
       "  (conv2): Conv2d(16, 16, kernel_size=(3, 3), stride=(1, 1), padding=same)\n",
       "  (postconv2): Sequential(\n",
       "    (0): BatchNorm2d(16, eps=1e-05, momentum=0.1, affine=True, track_running_stats=True)\n",
       "    (1): LeakyReLU(negative_slope=0.01)\n",
       "  )\n",
       "  (conv3): Conv2d(16, 16, kernel_size=(3, 3), stride=(1, 1), padding=same)\n",
       "  (postconv3): Sequential(\n",
       "    (0): BatchNorm2d(16, eps=1e-05, momentum=0.1, affine=True, track_running_stats=True)\n",
       "    (1): LeakyReLU(negative_slope=0.01)\n",
       "  )\n",
       "  (conv4): Conv2d(16, 16, kernel_size=(3, 3), stride=(1, 1), padding=same)\n",
       "  (postconv4): Sequential(\n",
       "    (0): BatchNorm2d(16, eps=1e-05, momentum=0.1, affine=True, track_running_stats=True)\n",
       "    (1): LeakyReLU(negative_slope=0.01)\n",
       "  )\n",
       "  (out): Sequential(\n",
       "    (0): Flatten(start_dim=1, end_dim=-1)\n",
       "    (1): Linear(in_features=12544, out_features=13, bias=True)\n",
       "  )\n",
       ")"
      ]
     },
     "execution_count": 12,
     "metadata": {},
     "output_type": "execute_result"
    }
   ],
   "source": [
    "mnist_model = models.Model(2, 28, 28, 13)\n",
    "\n",
    "if os.path.exists('mnist_model.pth'):\n",
    "  mnist_model.load_state_dict(torch.load('mnist_model.pth'))\n",
    "else:\n",
    "  train(mnist_model, train_dl(2, (0, 1, 2, 3, 4, 5, 6)), val_dl(2, (0, 1, 2, 3, 4, 5, 6)), epochs=100)\n",
    "  torch.save(mnist_model.state_dict(), 'mnist_model.pth')\n",
    "mnist_model.to(device)"
   ]
  },
  {
   "cell_type": "code",
   "execution_count": 13,
   "metadata": {},
   "outputs": [
    {
     "data": {
      "text/plain": [
       "LinearModels(\n",
       "  (l): Linear(in_features=64, out_features=14, bias=True)\n",
       "  (sigmoid): Sigmoid()\n",
       ")"
      ]
     },
     "execution_count": 13,
     "metadata": {},
     "output_type": "execute_result"
    }
   ],
   "source": [
    "mnist_concept_classifier = models.LinearModels(64, 14)\n",
    "\n",
    "if os.path.exists('mnist_concept_classifier.pth'):\n",
    "  mnist_concept_classifier.load_state_dict(torch.load('mnist_concept_classifier.pth'))\n",
    "else:\n",
    "  train_concept_classifier(mnist_model, mnist_concept_classifier, train_dl(2, (0, 1, 2, 3, 4, 5, 6)), val_dl(2, (0, 1, 2, 3, 4, 5, 6)))\n",
    "  torch.save(mnist_concept_classifier.state_dict(), 'mnist_concept_classifier.pth')\n",
    "mnist_concept_classifier.to(device)"
   ]
  },
  {
   "cell_type": "code",
   "execution_count": 14,
   "metadata": {},
   "outputs": [
    {
     "name": "stderr",
     "output_type": "stream",
     "text": [
      "Seed set to 42\n"
     ]
    },
    {
     "data": {
      "text/plain": [
       "0.7507"
      ]
     },
     "execution_count": 14,
     "metadata": {},
     "output_type": "execute_result"
    }
   ],
   "source": [
    "calculate_accuracy(test_dl(2, (0, 1, 2, 3, 4, 5, 6)), mnist_model)"
   ]
  },
  {
   "cell_type": "code",
   "execution_count": 15,
   "metadata": {},
   "outputs": [
    {
     "data": {
      "text/plain": [
       "(0.8603,\n",
       " array([0.8629, 0.849 , 0.8562, 0.8598, 0.8627, 0.8653, 0.8629, 0.8539,\n",
       "        0.8699, 0.8512, 0.8575, 0.8595, 0.8758, 0.8576]))"
      ]
     },
     "execution_count": 15,
     "metadata": {},
     "output_type": "execute_result"
    }
   ],
   "source": [
    "calculate_concept_accuracy(test_dl(2, (0, 1, 2, 3, 4, 5, 6)), mnist_model, mnist_concept_classifier)"
   ]
  },
  {
   "cell_type": "code",
   "execution_count": 16,
   "metadata": {},
   "outputs": [
    {
     "data": {
      "text/plain": [
       "0.7486"
      ]
     },
     "execution_count": 16,
     "metadata": {},
     "output_type": "execute_result"
    }
   ],
   "source": [
    "calculate_accuracy_with_interventions(mnist_model, mnist_concept_classifier, test_dl(2, (0, 1, 2, 3, 4, 5, 6)), 0.1, [True] * 14)"
   ]
  },
  {
   "cell_type": "code",
   "execution_count": 17,
   "metadata": {},
   "outputs": [
    {
     "data": {
      "image/png": "[encoded data removed]",
      "text/plain": [
       "<Figure size 640x480 with 1 Axes>"
      ]
     },
     "metadata": {},
     "output_type": "display_data"
    }
   ],
   "source": [
    "epsilons = np.linspace(0, 0.1)\n",
    "mnist_net2vec_epsilon_accuracies = []\n",
    "\n",
    "for epsilon in epsilons:\n",
    "  mnist_net2vec_epsilon_accuracies.append(calculate_accuracy_with_interventions(\n",
    "    mnist_model,\n",
    "    mnist_concept_classifier,\n",
    "    test_dl(2, (0, 1, 2, 3, 4, 5, 6)),\n",
    "    epsilon,\n",
    "    [True] * 14))\n",
    "\n",
    "plt.plot(epsilons, mnist_net2vec_epsilon_accuracies)\n",
    "plt.xlabel(\"$\\epsilon$\")\n",
    "plt.ylabel(\"Task accuracy\")\n",
    "plt.show()"
   ]
  },
  {
   "cell_type": "code",
   "execution_count": 18,
   "metadata": {},
   "outputs": [
    {
     "data": {
      "text/plain": [
       "0.7554"
      ]
     },
     "execution_count": 18,
     "metadata": {},
     "output_type": "execute_result"
    }
   ],
   "source": [
    "mnist_net2vec_epsilon_accuracies[14]"
   ]
  },
  {
   "cell_type": "code",
   "execution_count": 19,
   "metadata": {},
   "outputs": [
    {
     "data": {
      "text/plain": [
       "0.028571428571428574"
      ]
     },
     "execution_count": 19,
     "metadata": {},
     "output_type": "execute_result"
    }
   ],
   "source": [
    "epsilons[14]"
   ]
  },
  {
   "cell_type": "code",
   "execution_count": 20,
   "metadata": {},
   "outputs": [],
   "source": [
    "mnist_concept_groups_intervened = [0, 1, 2]\n",
    "mnist_net2vec_intervention_accuracies = []\n",
    "mnist_net2vec_intervention_accuracies.append(calculate_accuracy_with_interventions(\n",
    "  mnist_model,\n",
    "  mnist_concept_classifier,\n",
    "  test_dl(2, (0, 1, 2, 3, 4, 5, 6)),\n",
    "  0.03,\n",
    "  [False] * 14))\n",
    "mnist_net2vec_intervention_accuracies.append(calculate_accuracy_with_interventions(\n",
    "  mnist_model,\n",
    "  mnist_concept_classifier,\n",
    "  test_dl(2, (0, 1, 2, 3, 4, 5, 6)),\n",
    "  0.03,\n",
    "  [True] * 7 + [False] * 7))\n",
    "mnist_net2vec_intervention_accuracies.append(calculate_accuracy_with_interventions(\n",
    "  mnist_model,\n",
    "  mnist_concept_classifier,\n",
    "  test_dl(2, (0, 1, 2, 3, 4, 5, 6)),\n",
    "  0.03,\n",
    "  [True] * 14))"
   ]
  },
  {
   "cell_type": "code",
   "execution_count": 21,
   "metadata": {},
   "outputs": [],
   "source": [
    "mnist_net2vec_incorrect_intervention_accuracies = []\n",
    "mnist_net2vec_incorrect_intervention_accuracies.append(calculate_accuracy_with_interventions(\n",
    "  mnist_model,\n",
    "  mnist_concept_classifier,\n",
    "  test_dl(2, (0, 1, 2, 3, 4, 5, 6)),\n",
    "  0.03,\n",
    "  [False] * 14,\n",
    "  intervene_incorrectly=True))\n",
    "mnist_net2vec_incorrect_intervention_accuracies.append(calculate_accuracy_with_interventions(\n",
    "  mnist_model,\n",
    "  mnist_concept_classifier,\n",
    "  test_dl(2, (0, 1, 2, 3, 4, 5, 6)),\n",
    "  0.03,\n",
    "  [True] * 7 + [False] * 7,\n",
    "  intervene_incorrectly=True))\n",
    "mnist_net2vec_incorrect_intervention_accuracies.append(calculate_accuracy_with_interventions(\n",
    "  mnist_model,\n",
    "  mnist_concept_classifier,\n",
    "  test_dl(2, (0, 1, 2, 3, 4, 5, 6)),\n",
    "  0.03,\n",
    "  [True] * 14,\n",
    "  intervene_incorrectly=True))"
   ]
  },
  {
   "cell_type": "markdown",
   "metadata": {},
   "source": [
    "# Baseline 1: CBM"
   ]
  },
  {
   "cell_type": "markdown",
   "metadata": {},
   "source": [
    "## DSPRITES"
   ]
  },
  {
   "cell_type": "code",
   "execution_count": 22,
   "metadata": {},
   "outputs": [
    {
     "data": {
      "text/plain": [
       "CBM(\n",
       "  (concept_encoder): Sequential(\n",
       "    (0): Conv2d(1, 16, kernel_size=(3, 3), stride=(1, 1), padding=same)\n",
       "    (1): BatchNorm2d(16, eps=1e-05, momentum=0.1, affine=True, track_running_stats=True)\n",
       "    (2): LeakyReLU(negative_slope=0.01)\n",
       "    (3): Conv2d(16, 16, kernel_size=(3, 3), stride=(1, 1), padding=same)\n",
       "    (4): BatchNorm2d(16, eps=1e-05, momentum=0.1, affine=True, track_running_stats=True)\n",
       "    (5): LeakyReLU(negative_slope=0.01)\n",
       "    (6): Conv2d(16, 16, kernel_size=(3, 3), stride=(1, 1), padding=same)\n",
       "    (7): BatchNorm2d(16, eps=1e-05, momentum=0.1, affine=True, track_running_stats=True)\n",
       "    (8): LeakyReLU(negative_slope=0.01)\n",
       "    (9): Conv2d(16, 16, kernel_size=(3, 3), stride=(1, 1), padding=same)\n",
       "    (10): BatchNorm2d(16, eps=1e-05, momentum=0.1, affine=True, track_running_stats=True)\n",
       "    (11): LeakyReLU(negative_slope=0.01)\n",
       "    (12): Flatten(start_dim=1, end_dim=-1)\n",
       "    (13): Linear(in_features=65536, out_features=7, bias=True)\n",
       "  )\n",
       "  (label_predictor): Sequential(\n",
       "    (0): Linear(in_features=7, out_features=128, bias=True)\n",
       "    (1): LeakyReLU(negative_slope=0.01)\n",
       "    (2): Linear(in_features=128, out_features=12, bias=True)\n",
       "  )\n",
       ")"
      ]
     },
     "execution_count": 22,
     "metadata": {},
     "output_type": "execute_result"
    }
   ],
   "source": [
    "dsprites_cbm = models.CBM(1, 64, 64, 7, 12)\n",
    "\n",
    "if os.path.exists('dsprites_cbm.pth'):\n",
    "  dsprites_cbm.load_state_dict(torch.load('dsprites_cbm.pth'))\n",
    "else:\n",
    "    train_independent_cbm(dsprites_cbm, dsprites.train_dl, epochs=100)\n",
    "    torch.save(dsprites_cbm.state_dict(), 'dsprites_cbm.pth')\n",
    "dsprites_cbm.to(device)"
   ]
  },
  {
   "cell_type": "code",
   "execution_count": 23,
   "metadata": {},
   "outputs": [
    {
     "data": {
      "text/plain": [
       "(0.08506944444444445, 0.6661086309523809)"
      ]
     },
     "execution_count": 23,
     "metadata": {},
     "output_type": "execute_result"
    }
   ],
   "source": [
    "calculate_cbm_accuracies(dsprites.test_dl, dsprites_cbm)"
   ]
  },
  {
   "cell_type": "code",
   "execution_count": 24,
   "metadata": {},
   "outputs": [],
   "source": [
    "dsprites_cbm_intervention_accuracies = []\n",
    "dsprites_cbm_intervention_accuracies.append(calculate_cbm_accuracies(\n",
    "  dsprites.test_dl,\n",
    "  dsprites_cbm,\n",
    "  [False, False, False, False, False, False, False])[0])\n",
    "dsprites_cbm_intervention_accuracies.append(calculate_cbm_accuracies(\n",
    "  dsprites.test_dl,\n",
    "  dsprites_cbm,\n",
    "  [False, False, False, False, True, True, True])[0])\n",
    "dsprites_cbm_intervention_accuracies.append(calculate_cbm_accuracies(\n",
    "  dsprites.test_dl,\n",
    "  dsprites_cbm,\n",
    "  [True, True, True, True, True, True, True])[0])"
   ]
  },
  {
   "cell_type": "code",
   "execution_count": 25,
   "metadata": {},
   "outputs": [],
   "source": [
    "dsprites_cbm_incorrect_intervention_accuracies = []\n",
    "dsprites_cbm_incorrect_intervention_accuracies.append(calculate_cbm_accuracies(\n",
    "  dsprites.test_dl,\n",
    "  dsprites_cbm,\n",
    "  [False, False, False, False, False, False, False],\n",
    "  intervene_incorrectly=True)[0])\n",
    "dsprites_cbm_incorrect_intervention_accuracies.append(calculate_cbm_accuracies(\n",
    "  dsprites.test_dl,\n",
    "  dsprites_cbm,\n",
    "  [False, False, False, False, True, True, True],\n",
    "  intervene_incorrectly=True)[0])\n",
    "dsprites_cbm_incorrect_intervention_accuracies.append(calculate_cbm_accuracies(\n",
    "  dsprites.test_dl,\n",
    "  dsprites_cbm,\n",
    "  [True, True, True, True, True, True, True],\n",
    "  intervene_incorrectly=True)[0])"
   ]
  },
  {
   "cell_type": "markdown",
   "metadata": {},
   "source": [
    "## MNIST ADD"
   ]
  },
  {
   "cell_type": "code",
   "execution_count": 26,
   "metadata": {},
   "outputs": [
    {
     "data": {
      "text/plain": [
       "CBM(\n",
       "  (concept_encoder): Sequential(\n",
       "    (0): Conv2d(2, 16, kernel_size=(3, 3), stride=(1, 1), padding=same)\n",
       "    (1): BatchNorm2d(16, eps=1e-05, momentum=0.1, affine=True, track_running_stats=True)\n",
       "    (2): LeakyReLU(negative_slope=0.01)\n",
       "    (3): Conv2d(16, 16, kernel_size=(3, 3), stride=(1, 1), padding=same)\n",
       "    (4): BatchNorm2d(16, eps=1e-05, momentum=0.1, affine=True, track_running_stats=True)\n",
       "    (5): LeakyReLU(negative_slope=0.01)\n",
       "    (6): Conv2d(16, 16, kernel_size=(3, 3), stride=(1, 1), padding=same)\n",
       "    (7): BatchNorm2d(16, eps=1e-05, momentum=0.1, affine=True, track_running_stats=True)\n",
       "    (8): LeakyReLU(negative_slope=0.01)\n",
       "    (9): Conv2d(16, 16, kernel_size=(3, 3), stride=(1, 1), padding=same)\n",
       "    (10): BatchNorm2d(16, eps=1e-05, momentum=0.1, affine=True, track_running_stats=True)\n",
       "    (11): LeakyReLU(negative_slope=0.01)\n",
       "    (12): Flatten(start_dim=1, end_dim=-1)\n",
       "    (13): Linear(in_features=12544, out_features=14, bias=True)\n",
       "  )\n",
       "  (label_predictor): Sequential(\n",
       "    (0): Linear(in_features=14, out_features=128, bias=True)\n",
       "    (1): LeakyReLU(negative_slope=0.01)\n",
       "    (2): Linear(in_features=128, out_features=13, bias=True)\n",
       "  )\n",
       ")"
      ]
     },
     "execution_count": 26,
     "metadata": {},
     "output_type": "execute_result"
    }
   ],
   "source": [
    "mnist_cbm = models.CBM(2, 28, 28, 14, 13)\n",
    "\n",
    "if os.path.exists('mnist_cbm.pth'):\n",
    "  mnist_cbm.load_state_dict(torch.load('mnist_cbm.pth'))\n",
    "else:\n",
    "  train_independent_cbm(mnist_cbm, train_dl(2, (0, 1, 2, 3, 4, 5, 6)), epochs=100)\n",
    "  torch.save(mnist_cbm.state_dict(), 'mnist_cbm.pth')\n",
    "mnist_cbm.to(device)"
   ]
  },
  {
   "cell_type": "code",
   "execution_count": 27,
   "metadata": {},
   "outputs": [
    {
     "data": {
      "text/plain": [
       "(0.9639, 0.9937714285714285)"
      ]
     },
     "execution_count": 27,
     "metadata": {},
     "output_type": "execute_result"
    }
   ],
   "source": [
    "calculate_cbm_accuracies(test_dl(2, (0, 1, 2, 3, 4, 5, 6)), mnist_cbm)"
   ]
  },
  {
   "cell_type": "code",
   "execution_count": 28,
   "metadata": {},
   "outputs": [],
   "source": [
    "mnist_cbm_intervention_accuracies = []\n",
    "mnist_cbm_intervention_accuracies.append(calculate_cbm_accuracies(\n",
    "  test_dl(2, (0, 1, 2, 3, 4, 5, 6)),\n",
    "  mnist_cbm,\n",
    "  [False] * 14)[0])\n",
    "mnist_cbm_intervention_accuracies.append(calculate_cbm_accuracies(\n",
    "  test_dl(2, (0, 1, 2, 3, 4, 5, 6)),\n",
    "  mnist_cbm,\n",
    "  [True] * 7 + [False] * 7)[0])\n",
    "mnist_cbm_intervention_accuracies.append(calculate_cbm_accuracies(\n",
    "  test_dl(2, (0, 1, 2, 3, 4, 5, 6)),\n",
    "  mnist_cbm,\n",
    "  [True] * 14)[0])"
   ]
  },
  {
   "cell_type": "code",
   "execution_count": 29,
   "metadata": {},
   "outputs": [],
   "source": [
    "mnist_cbm_incorrect_intervention_accuracies = []\n",
    "mnist_cbm_incorrect_intervention_accuracies.append(calculate_cbm_accuracies(\n",
    "  test_dl(2, (0, 1, 2, 3, 4, 5, 6)),\n",
    "  mnist_cbm,\n",
    "  [False] * 14,\n",
    "  intervene_incorrectly=True)[0])\n",
    "mnist_cbm_incorrect_intervention_accuracies.append(calculate_cbm_accuracies(\n",
    "  test_dl(2, (0, 1, 2, 3, 4, 5, 6)),\n",
    "  mnist_cbm,\n",
    "  [True] * 7 + [False] * 7,\n",
    "  intervene_incorrectly=True)[0])\n",
    "mnist_cbm_incorrect_intervention_accuracies.append(calculate_cbm_accuracies(\n",
    "  test_dl(2, (0, 1, 2, 3, 4, 5, 6)),\n",
    "  mnist_cbm,\n",
    "  [True] * 14,\n",
    "  intervene_incorrectly=True)[0])"
   ]
  },
  {
   "cell_type": "markdown",
   "metadata": {},
   "source": [
    "# Baseline 2: CEM"
   ]
  },
  {
   "cell_type": "markdown",
   "metadata": {},
   "source": [
    "## DSPRITES"
   ]
  },
  {
   "cell_type": "code",
   "execution_count": 30,
   "metadata": {},
   "outputs": [
    {
     "name": "stderr",
     "output_type": "stream",
     "text": [
      "Seed set to 42\n",
      "GPU available: True (mps), used: True\n",
      "TPU available: False, using: 0 TPU cores\n",
      "IPU available: False, using: 0 IPUs\n",
      "HPU available: False, using: 0 HPUs\n"
     ]
    },
    {
     "name": "stdout",
     "output_type": "stream",
     "text": [
      "[Training ConceptEmbeddingModel_lambda]\n",
      "config:\n",
      "\tweight_loss -> None\n",
      "\ttop_k_accuracy -> None\n",
      "\temb_size -> 16\n",
      "\textra_dims -> 0\n",
      "\tconcept_loss_weight -> 1\n",
      "\tlearning_rate -> 0.001\n",
      "\tweight_decay -> 4e-06\n",
      "\toptimizer -> sgd\n",
      "\tbool -> False\n",
      "\tsigmoidal_prob -> True\n",
      "\ttraining_intervention_prob -> 0.25\n",
      "\tintervention_freq -> 1\n",
      "\tc2y_layers -> [128]\n",
      "\tarchitecture -> ConceptEmbeddingModel\n",
      "\tshared_prob_gen -> True\n",
      "\tembedding_activation -> leakyrelu\n",
      "\tmax_epochs -> 100\n",
      "\tskip_repr_evaluation -> True\n",
      "\ttest_subsampling -> 1\n",
      "\tuse_task_class_weights -> True\n",
      "\tcheck_val_every_n_epoch -> 2\n",
      "\tsave_model -> True\n",
      "\tpatience -> 10\n",
      "\tearly_stopping_monitor -> val_loss\n",
      "\tearly_stopping_mode -> min\n",
      "\tearly_stopping_delta -> 0.0\n",
      "\tmomentum -> 0.9\n",
      "\textra_name -> \n",
      "\tsigmoidal_embedding -> False\n",
      "\tconcat_prob -> False\n",
      "\timbalance -> None\n",
      "\tc_extractor_arch -> <function get_cem_c_extractor_arch.<locals>.c_extractor_arch at 0x31549b5e0>\n",
      "[Number of parameters in model 8440925 ]\n",
      "[Number of non-trainable parameters in model 0 ]\n",
      "\tFound cached model... loading it\n"
     ]
    },
    {
     "data": {
      "application/vnd.jupyter.widget-view+json": {
       "model_id": "b7c2fac6877d43d9977ccc958a9a998f",
       "version_major": 2,
       "version_minor": 0
      },
      "text/plain": [
       "Testing: |          | 0/? [00:00<?, ?it/s]"
      ]
     },
     "metadata": {},
     "output_type": "display_data"
    },
    {
     "name": "stdout",
     "output_type": "stream",
     "text": [
      "────────────────────────────────────────────────────────────────────────────────────────────────────────────────────────\n",
      "       Test metric             DataLoader 0\n",
      "────────────────────────────────────────────────────────────────────────────────────────────────────────────────────────\n",
      "    test_avg_c_y_acc         0.999395489692688\n",
      "     test_c_accuracy        0.9994419813156128\n",
      "       test_c_auc           0.9989444017410278\n",
      "        test_c_f1           0.9992597103118896\n",
      "    test_concept_loss      0.005141783505678177\n",
      "        test_loss           0.00742351682856679\n",
      "     test_task_loss        0.0022817333228886127\n",
      "     test_y_accuracy        0.9993489384651184\n",
      "       test_y_auc                   1.0\n",
      "        test_y_f1           0.9993489384651184\n",
      "────────────────────────────────────────────────────────────────────────────────────────────────────────────────────────\n",
      "c_acc: 99.94%, y_acc: 99.93%, c_auc: 99.89%, y_auc: 100.00% with 100.0 epochs in 344.59 seconds\n"
     ]
    }
   ],
   "source": [
    "config = {\n",
    "  \"weight_loss\": None,\n",
    "  \"top_k_accuracy\": None,\n",
    "  \"emb_size\": 16,\n",
    "  \"extra_dims\": 0,\n",
    "  \"concept_loss_weight\": 1,\n",
    "  \"learning_rate\": 0.001,\n",
    "  \"weight_decay\": 4e-06,\n",
    "  \"optimizer\": \"sgd\",\n",
    "  \"bool\": False,\n",
    "  \"sigmoidal_prob\": True,\n",
    "  \"training_intervention_prob\": 0.25,\n",
    "  \"intervention_freq\": 1,\n",
    "  \"c2y_layers\": [128],\n",
    "  \"architecture\": \"ConceptEmbeddingModel\",\n",
    "  \"shared_prob_gen\": True,\n",
    "  \"embedding_activation\": \"leakyrelu\",\n",
    "  \"max_epochs\": 100,\n",
    "  \"skip_repr_evaluation\": True,\n",
    "  \"test_subsampling\": 1,\n",
    "  \"use_task_class_weights\": True,\n",
    "  \"check_val_every_n_epoch\": 2,\n",
    "  \"save_model\": True,\n",
    "  \"patience\": 10,\n",
    "  \"early_stopping_monitor\": \"val_loss\",\n",
    "  \"early_stopping_mode\": \"min\",\n",
    "  \"early_stopping_delta\": 0.0,\n",
    "  \"momentum\": 0.9,\n",
    "  \"extra_name\": \"\",\n",
    "  \"sigmoidal_embedding\": False,\n",
    "  \"concat_prob\": False,\n",
    "  \"imbalance\": None,\n",
    "  \"c_extractor_arch\": models.get_cem_c_extractor_arch(1, 64, 64),\n",
    "}\n",
    "\n",
    "dsprites_cem = training.train_model(\n",
    "    accelerator=\"auto\",\n",
    "    devices=\"auto\",\n",
    "    n_concepts=7,\n",
    "    n_tasks=12,\n",
    "    config=config,\n",
    "    train_dl=dsprites.train_dl,\n",
    "    val_dl=dsprites.val_dl,\n",
    "    test_dl=dsprites.test_dl,\n",
    "    result_dir=\"dsprites_cem\",\n",
    "    seed=42,\n",
    ")[0]"
   ]
  },
  {
   "cell_type": "code",
   "execution_count": 31,
   "metadata": {},
   "outputs": [
    {
     "data": {
      "text/plain": [
       "(0.9993489583333334, 0.9994419642857143)"
      ]
     },
     "execution_count": 31,
     "metadata": {},
     "output_type": "execute_result"
    }
   ],
   "source": [
    "calculate_cem_accuracies(dsprites.test_dl, dsprites_cem)"
   ]
  },
  {
   "cell_type": "code",
   "execution_count": 32,
   "metadata": {},
   "outputs": [],
   "source": [
    "dsprites_cem_intervention_accuracies = []\n",
    "dsprites_cem_intervention_accuracies.append(calculate_cem_accuracies(\n",
    "  dsprites.test_dl,\n",
    "  dsprites_cem,\n",
    "  [False, False, False, False, False, False, False])[0])\n",
    "dsprites_cem_intervention_accuracies.append(calculate_cem_accuracies(\n",
    "  dsprites.test_dl,\n",
    "  dsprites_cem,\n",
    "  [False, False, False, False, True, True, True])[0])\n",
    "dsprites_cem_intervention_accuracies.append(calculate_cem_accuracies(\n",
    "  dsprites.test_dl,\n",
    "  dsprites_cem,\n",
    "  [True, True, True, True, True, True, True])[0])"
   ]
  },
  {
   "cell_type": "code",
   "execution_count": 33,
   "metadata": {},
   "outputs": [],
   "source": [
    "dsprites_cem_incorrect_intervention_accuracies = []\n",
    "dsprites_cem_incorrect_intervention_accuracies.append(calculate_cem_accuracies(\n",
    "  dsprites.test_dl,\n",
    "  dsprites_cem,\n",
    "  [False, False, False, False, False, False, False],\n",
    "  intervene_incorrectly=True)[0])\n",
    "dsprites_cem_incorrect_intervention_accuracies.append(calculate_cem_accuracies(\n",
    "  dsprites.test_dl,\n",
    "  dsprites_cem,\n",
    "  [False, False, False, False, True, True, True],\n",
    "  intervene_incorrectly=True)[0])\n",
    "dsprites_cem_incorrect_intervention_accuracies.append(calculate_cem_accuracies(\n",
    "  dsprites.test_dl,\n",
    "  dsprites_cem,\n",
    "  [True, True, True, True, True, True, True],\n",
    "  intervene_incorrectly=True)[0])"
   ]
  },
  {
   "cell_type": "markdown",
   "metadata": {},
   "source": [
    "## MNIST-ADD"
   ]
  },
  {
   "cell_type": "code",
   "execution_count": 34,
   "metadata": {},
   "outputs": [
    {
     "name": "stderr",
     "output_type": "stream",
     "text": [
      "Seed set to 42\n",
      "GPU available: True (mps), used: True\n",
      "TPU available: False, using: 0 TPU cores\n",
      "IPU available: False, using: 0 IPUs\n",
      "HPU available: False, using: 0 HPUs\n"
     ]
    },
    {
     "name": "stdout",
     "output_type": "stream",
     "text": [
      "[Training ConceptEmbeddingModel_lambda]\n",
      "config:\n",
      "\tweight_loss -> None\n",
      "\ttop_k_accuracy -> None\n",
      "\temb_size -> 16\n",
      "\textra_dims -> 0\n",
      "\tconcept_loss_weight -> 1\n",
      "\tlearning_rate -> 0.001\n",
      "\tweight_decay -> 4e-06\n",
      "\toptimizer -> sgd\n",
      "\tbool -> False\n",
      "\tsigmoidal_prob -> True\n",
      "\ttraining_intervention_prob -> 0.25\n",
      "\tintervention_freq -> 1\n",
      "\tc2y_layers -> [128]\n",
      "\tarchitecture -> ConceptEmbeddingModel\n",
      "\tshared_prob_gen -> True\n",
      "\tembedding_activation -> leakyrelu\n",
      "\tmax_epochs -> 100\n",
      "\tskip_repr_evaluation -> True\n",
      "\ttest_subsampling -> 1\n",
      "\tuse_task_class_weights -> True\n",
      "\tcheck_val_every_n_epoch -> 2\n",
      "\tsave_model -> True\n",
      "\tpatience -> 10\n",
      "\tearly_stopping_monitor -> val_loss\n",
      "\tearly_stopping_mode -> min\n",
      "\tearly_stopping_delta -> 0.0\n",
      "\tmomentum -> 0.9\n",
      "\textra_name -> \n",
      "\tsigmoidal_embedding -> False\n",
      "\tconcat_prob -> False\n",
      "\timbalance -> None\n",
      "\tc_extractor_arch -> <function get_cem_c_extractor_arch.<locals>.c_extractor_arch at 0x31653d3a0>\n",
      "[Number of parameters in model 1701454 ]\n",
      "[Number of non-trainable parameters in model 0 ]\n",
      "\tFound cached model... loading it\n"
     ]
    },
    {
     "data": {
      "application/vnd.jupyter.widget-view+json": {
       "model_id": "57c4260d25f24ba091f6902d338c6590",
       "version_major": 2,
       "version_minor": 0
      },
      "text/plain": [
       "Testing: |          | 0/? [00:00<?, ?it/s]"
      ]
     },
     "metadata": {},
     "output_type": "display_data"
    },
    {
     "name": "stdout",
     "output_type": "stream",
     "text": [
      "────────────────────────────────────────────────────────────────────────────────────────────────────────────────────────\n",
      "       Test metric             DataLoader 0\n",
      "────────────────────────────────────────────────────────────────────────────────────────────────────────────────────────\n",
      "    test_avg_c_y_acc        0.7434607148170471\n",
      "     test_c_accuracy        0.8909214735031128\n",
      "       test_c_auc           0.7055792808532715\n",
      "        test_c_f1           0.7290427088737488\n",
      "    test_concept_loss       0.2471648007631302\n",
      "        test_loss           1.4622472524642944\n",
      "     test_task_loss         1.2150826454162598\n",
      "     test_y_accuracy        0.5960000157356262\n",
      "       test_y_auc           0.9482746124267578\n",
      "        test_y_f1           0.6396666169166565\n",
      "────────────────────────────────────────────────────────────────────────────────────────────────────────────────────────\n",
      "c_acc: 89.09%, y_acc: 59.60%, c_auc: 70.56%, y_auc: 94.83% with 100.0 epochs in 78.54 seconds\n"
     ]
    }
   ],
   "source": [
    "config = {\n",
    "  \"weight_loss\": None,\n",
    "  \"top_k_accuracy\": None,\n",
    "  \"emb_size\": 16,\n",
    "  \"extra_dims\": 0,\n",
    "  \"concept_loss_weight\": 1,\n",
    "  \"learning_rate\": 0.001,\n",
    "  \"weight_decay\": 4e-06,\n",
    "  \"optimizer\": \"sgd\",\n",
    "  \"bool\": False,\n",
    "  \"sigmoidal_prob\": True,\n",
    "  \"training_intervention_prob\": 0.25,\n",
    "  \"intervention_freq\": 1,\n",
    "  \"c2y_layers\": [128],\n",
    "  \"architecture\": \"ConceptEmbeddingModel\",\n",
    "  \"shared_prob_gen\": True,\n",
    "  \"embedding_activation\": \"leakyrelu\",\n",
    "  \"max_epochs\": 100,\n",
    "  \"skip_repr_evaluation\": True,\n",
    "  \"test_subsampling\": 1,\n",
    "  \"use_task_class_weights\": True,\n",
    "  \"check_val_every_n_epoch\": 2,\n",
    "  \"save_model\": True,\n",
    "  \"patience\": 10,\n",
    "  \"early_stopping_monitor\": \"val_loss\",\n",
    "  \"early_stopping_mode\": \"min\",\n",
    "  \"early_stopping_delta\": 0.0,\n",
    "  \"momentum\": 0.9,\n",
    "  \"extra_name\": \"\",\n",
    "  \"sigmoidal_embedding\": False,\n",
    "  \"concat_prob\": False,\n",
    "  \"imbalance\": None,\n",
    "  \"c_extractor_arch\": models.get_cem_c_extractor_arch(2, 28, 28),\n",
    "}\n",
    "\n",
    "mnist_cem = training.train_model(\n",
    "    accelerator=\"auto\",\n",
    "    devices=\"auto\",\n",
    "    n_concepts=14,\n",
    "    n_tasks=13,\n",
    "    config=config,\n",
    "    train_dl=train_dl(2, (0, 1, 2, 3, 4, 5, 6)),\n",
    "    val_dl=val_dl(2, (0, 1, 2, 3, 4, 5, 6)),\n",
    "    test_dl=test_dl(2, (0, 1, 2, 3, 4, 5, 6)),\n",
    "    result_dir=\"mnist_cem\",\n",
    "    seed=42,\n",
    ")[0]"
   ]
  },
  {
   "cell_type": "code",
   "execution_count": 35,
   "metadata": {},
   "outputs": [
    {
     "data": {
      "text/plain": [
       "(0.596, 0.8909214285714285)"
      ]
     },
     "execution_count": 35,
     "metadata": {},
     "output_type": "execute_result"
    }
   ],
   "source": [
    "calculate_cem_accuracies(test_dl(2, (0, 1, 2, 3, 4, 5, 6)), mnist_cem)"
   ]
  },
  {
   "cell_type": "code",
   "execution_count": 36,
   "metadata": {},
   "outputs": [],
   "source": [
    "mnist_cem_intervention_accuracies = []\n",
    "mnist_cem_intervention_accuracies.append(calculate_cem_accuracies(\n",
    "  test_dl(2, (0, 1, 2, 3, 4, 5, 6)),\n",
    "  mnist_cem,\n",
    "  [False] * 14)[0])\n",
    "mnist_cem_intervention_accuracies.append(calculate_cem_accuracies(\n",
    "  test_dl(2, (0, 1, 2, 3, 4, 5, 6)),\n",
    "  mnist_cem,\n",
    "  [True] * 7 + [False] * 7)[0])\n",
    "mnist_cem_intervention_accuracies.append(calculate_cem_accuracies(\n",
    "  test_dl(2, (0, 1, 2, 3, 4, 5, 6)),\n",
    "  mnist_cem,\n",
    "  [True] * 14)[0])"
   ]
  },
  {
   "cell_type": "code",
   "execution_count": 37,
   "metadata": {},
   "outputs": [],
   "source": [
    "mnist_cem_incorrect_intervention_accuracies = []\n",
    "mnist_cem_incorrect_intervention_accuracies.append(calculate_cem_accuracies(\n",
    "  test_dl(2, (0, 1, 2, 3, 4, 5, 6)),\n",
    "  mnist_cem,\n",
    "  [False] * 14,\n",
    "  intervene_incorrectly=True)[0])\n",
    "mnist_cem_incorrect_intervention_accuracies.append(calculate_cem_accuracies(\n",
    "  test_dl(2, (0, 1, 2, 3, 4, 5, 6)),\n",
    "  mnist_cem,\n",
    "  [True] * 7 + [False] * 7,\n",
    "  intervene_incorrectly=True)[0])\n",
    "mnist_cem_incorrect_intervention_accuracies.append(calculate_cem_accuracies(\n",
    "  test_dl(2, (0, 1, 2, 3, 4, 5, 6)),\n",
    "  mnist_cem,\n",
    "  [True] * 14,\n",
    "  intervene_incorrectly=True)[0])"
   ]
  },
  {
   "cell_type": "markdown",
   "metadata": {},
   "source": [
    "# Graphs"
   ]
  },
  {
   "cell_type": "code",
   "execution_count": 38,
   "metadata": {},
   "outputs": [
    {
     "data": {
      "image/png": "[encoded data removed]",
      "text/plain": [
       "<Figure size 640x480 with 1 Axes>"
      ]
     },
     "metadata": {},
     "output_type": "display_data"
    }
   ],
   "source": [
    "plt.plot(\n",
    "  dsprites_concept_groups_intervened,\n",
    "  dsprites_net2vec_intervention_accuracies, label=\"Our technique\"\n",
    ")\n",
    "plt.plot(\n",
    "  dsprites_concept_groups_intervened,\n",
    "  dsprites_cbm_intervention_accuracies,\n",
    "  label=\"CBM\"\n",
    ")\n",
    "plt.plot(\n",
    "  dsprites_concept_groups_intervened,\n",
    "  dsprites_cem_intervention_accuracies,\n",
    "  label=\"CEM\"\n",
    ")\n",
    "plt.legend()\n",
    "plt.xlabel(\"Number of concept groups intervened\")\n",
    "plt.ylabel(\"Task accuracy\")\n",
    "plt.show()"
   ]
  },
  {
   "cell_type": "code",
   "execution_count": 39,
   "metadata": {},
   "outputs": [
    {
     "data": {
      "image/png": "[encoded data removed]",
      "text/plain": [
       "<Figure size 640x480 with 1 Axes>"
      ]
     },
     "metadata": {},
     "output_type": "display_data"
    }
   ],
   "source": [
    "plt.plot(\n",
    "  mnist_concept_groups_intervened,\n",
    "  mnist_net2vec_intervention_accuracies, label=\"Our technique\"\n",
    ")\n",
    "plt.plot(\n",
    "  mnist_concept_groups_intervened,\n",
    "  mnist_cbm_intervention_accuracies,\n",
    "  label=\"CBM\"\n",
    ")\n",
    "plt.plot(\n",
    "  mnist_concept_groups_intervened,\n",
    "  mnist_cem_intervention_accuracies,\n",
    "  label=\"CEM\"\n",
    ")\n",
    "plt.legend()\n",
    "plt.xlabel(\"Number of concept groups intervened\")\n",
    "plt.ylabel(\"Task accuracy\")\n",
    "plt.show()"
   ]
  },
  {
   "cell_type": "code",
   "execution_count": 40,
   "metadata": {},
   "outputs": [
    {
     "data": {
      "image/png": "[encoded data removed]",
      "text/plain": [
       "<Figure size 640x480 with 1 Axes>"
      ]
     },
     "metadata": {},
     "output_type": "display_data"
    }
   ],
   "source": [
    "plt.plot(\n",
    "  dsprites_concept_groups_intervened,\n",
    "  dsprites_net2vec_incorrect_intervention_accuracies, label=\"Our technique\"\n",
    ")\n",
    "plt.plot(\n",
    "  dsprites_concept_groups_intervened,\n",
    "  dsprites_cbm_incorrect_intervention_accuracies,\n",
    "  label=\"CBM\"\n",
    ")\n",
    "plt.plot(\n",
    "  dsprites_concept_groups_intervened,\n",
    "  dsprites_cem_incorrect_intervention_accuracies,\n",
    "  label=\"CEM\"\n",
    ")\n",
    "plt.legend()\n",
    "plt.xlabel(\"Number of concept groups incorrectly intervened\")\n",
    "plt.ylabel(\"Task accuracy\")\n",
    "plt.show()"
   ]
  },
  {
   "cell_type": "code",
   "execution_count": 41,
   "metadata": {},
   "outputs": [
    {
     "data": {
      "image/png": "[encoded data removed]",
      "text/plain": [
       "<Figure size 640x480 with 1 Axes>"
      ]
     },
     "metadata": {},
     "output_type": "display_data"
    }
   ],
   "source": [
    "plt.plot(\n",
    "  mnist_concept_groups_intervened,\n",
    "  mnist_net2vec_incorrect_intervention_accuracies, label=\"Our technique\"\n",
    ")\n",
    "plt.plot(\n",
    "  mnist_concept_groups_intervened,\n",
    "  mnist_cbm_incorrect_intervention_accuracies,\n",
    "  label=\"CBM\"\n",
    ")\n",
    "plt.plot(\n",
    "  mnist_concept_groups_intervened,\n",
    "  mnist_cem_incorrect_intervention_accuracies,\n",
    "  label=\"CEM\"\n",
    ")\n",
    "plt.legend()\n",
    "plt.xlabel(\"Number of concept groups incorrectly intervened\")\n",
    "plt.ylabel(\"Task accuracy\")\n",
    "plt.show()"
   ]
  },
  {
   "cell_type": "code",
   "execution_count": 42,
   "metadata": {},
   "outputs": [
    {
     "data": {
      "text/plain": [
       "[0.7507, 0.7445, 0.7369]"
      ]
     },
     "execution_count": 42,
     "metadata": {},
     "output_type": "execute_result"
    }
   ],
   "source": [
    "mnist_net2vec_incorrect_intervention_accuracies"
   ]
  }
 ],
 "metadata": {
  "kernelspec": {
   "display_name": "r255-project",
   "language": "python",
   "name": "python3"
  },
  "language_info": {
   "codemirror_mode": {
    "name": "ipython",
    "version": 3
   },
   "file_extension": ".py",
   "mimetype": "text/x-python",
   "name": "python",
   "nbconvert_exporter": "python",
   "pygments_lexer": "ipython3",
   "version": "3.9.18"
  }
 },
 "nbformat": 4,
 "nbformat_minor": 2
}
